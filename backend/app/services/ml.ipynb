{
 "cells": [
  {
   "cell_type": "code",
   "execution_count": null,
   "metadata": {},
   "outputs": [],
   "source": [
    "from tvDatafeed import TvDatafeed, Interval\n",
    "import pandas as pd\n",
    "import numpy as np\n",
    "from scipy.optimize import minimize\n",
    "import matplotlib.pyplot as plt\n",
    "\n",
    "# Подключение\n",
    "tv = TvDatafeed()\n"
   ]
  },
  {
   "cell_type": "code",
   "execution_count": 15,
   "metadata": {},
   "outputs": [],
   "source": [
    "def get_stock_data(ticker, exchange=\"NASDAQ\", interval=Interval.in_daily, bars=1000):\n",
    "    df = tv.get_hist(ticker, exchange, interval=interval, n_bars=bars)\n",
    "    if df is None or df.empty:\n",
    "        raise ValueError(f\"Нет данных для {ticker}\")\n",
    "    return df['close']\n"
   ]
  },
  {
   "cell_type": "code",
   "execution_count": null,
   "metadata": {},
   "outputs": [],
   "source": [
    "tickers = ['AAPL', 'MSFT', 'GOOGL']  # можешь поменять на свои\n",
    "data = {}\n",
    "\n",
    "for ticker in tickers:\n",
    "    close_prices = get_stock_data(ticker, bars=10000)\n",
    "    data[ticker] = close_prices\n",
    "\n",
    "prices_df = pd.DataFrame(data)\n",
    "prices_df.dropna(inplace=True)\n",
    "# prices_df\n"
   ]
  },
  {
   "cell_type": "code",
   "execution_count": 27,
   "metadata": {},
   "outputs": [
    {
     "data": {
      "text/html": [
       "<div>\n",
       "<style scoped>\n",
       "    .dataframe tbody tr th:only-of-type {\n",
       "        vertical-align: middle;\n",
       "    }\n",
       "\n",
       "    .dataframe tbody tr th {\n",
       "        vertical-align: top;\n",
       "    }\n",
       "\n",
       "    .dataframe thead th {\n",
       "        text-align: right;\n",
       "    }\n",
       "</style>\n",
       "<table border=\"1\" class=\"dataframe\">\n",
       "  <thead>\n",
       "    <tr style=\"text-align: right;\">\n",
       "      <th></th>\n",
       "      <th>AAPL</th>\n",
       "      <th>MSFT</th>\n",
       "      <th>GOOGL</th>\n",
       "    </tr>\n",
       "    <tr>\n",
       "      <th>datetime</th>\n",
       "      <th></th>\n",
       "      <th></th>\n",
       "      <th></th>\n",
       "    </tr>\n",
       "  </thead>\n",
       "  <tbody>\n",
       "    <tr>\n",
       "      <th>2004-08-19 18:30:00</th>\n",
       "      <td>0.548392</td>\n",
       "      <td>27.12000</td>\n",
       "      <td>2.510808</td>\n",
       "    </tr>\n",
       "    <tr>\n",
       "      <th>2004-08-20 18:30:00</th>\n",
       "      <td>0.549999</td>\n",
       "      <td>27.20000</td>\n",
       "      <td>2.710377</td>\n",
       "    </tr>\n",
       "    <tr>\n",
       "      <th>2004-08-23 18:30:00</th>\n",
       "      <td>0.554999</td>\n",
       "      <td>27.24001</td>\n",
       "      <td>2.737653</td>\n",
       "    </tr>\n",
       "    <tr>\n",
       "      <th>2004-08-24 18:30:00</th>\n",
       "      <td>0.570535</td>\n",
       "      <td>27.24001</td>\n",
       "      <td>2.624293</td>\n",
       "    </tr>\n",
       "    <tr>\n",
       "      <th>2004-08-25 18:30:00</th>\n",
       "      <td>0.590178</td>\n",
       "      <td>27.55000</td>\n",
       "      <td>2.652570</td>\n",
       "    </tr>\n",
       "    <tr>\n",
       "      <th>...</th>\n",
       "      <td>...</td>\n",
       "      <td>...</td>\n",
       "      <td>...</td>\n",
       "    </tr>\n",
       "    <tr>\n",
       "      <th>2025-04-07 18:30:00</th>\n",
       "      <td>181.460000</td>\n",
       "      <td>357.86000</td>\n",
       "      <td>146.750000</td>\n",
       "    </tr>\n",
       "    <tr>\n",
       "      <th>2025-04-08 18:30:00</th>\n",
       "      <td>172.420000</td>\n",
       "      <td>354.56000</td>\n",
       "      <td>144.700000</td>\n",
       "    </tr>\n",
       "    <tr>\n",
       "      <th>2025-04-09 18:30:00</th>\n",
       "      <td>198.850000</td>\n",
       "      <td>390.49000</td>\n",
       "      <td>158.710000</td>\n",
       "    </tr>\n",
       "    <tr>\n",
       "      <th>2025-04-10 18:30:00</th>\n",
       "      <td>190.420000</td>\n",
       "      <td>381.35000</td>\n",
       "      <td>152.820000</td>\n",
       "    </tr>\n",
       "    <tr>\n",
       "      <th>2025-04-11 18:30:00</th>\n",
       "      <td>198.150000</td>\n",
       "      <td>388.45000</td>\n",
       "      <td>157.140000</td>\n",
       "    </tr>\n",
       "  </tbody>\n",
       "</table>\n",
       "<p>5196 rows × 3 columns</p>\n",
       "</div>"
      ],
      "text/plain": [
       "                           AAPL       MSFT       GOOGL\n",
       "datetime                                              \n",
       "2004-08-19 18:30:00    0.548392   27.12000    2.510808\n",
       "2004-08-20 18:30:00    0.549999   27.20000    2.710377\n",
       "2004-08-23 18:30:00    0.554999   27.24001    2.737653\n",
       "2004-08-24 18:30:00    0.570535   27.24001    2.624293\n",
       "2004-08-25 18:30:00    0.590178   27.55000    2.652570\n",
       "...                         ...        ...         ...\n",
       "2025-04-07 18:30:00  181.460000  357.86000  146.750000\n",
       "2025-04-08 18:30:00  172.420000  354.56000  144.700000\n",
       "2025-04-09 18:30:00  198.850000  390.49000  158.710000\n",
       "2025-04-10 18:30:00  190.420000  381.35000  152.820000\n",
       "2025-04-11 18:30:00  198.150000  388.45000  157.140000\n",
       "\n",
       "[5196 rows x 3 columns]"
      ]
     },
     "execution_count": 27,
     "metadata": {},
     "output_type": "execute_result"
    }
   ],
   "source": [
    "prices_df"
   ]
  },
  {
   "cell_type": "code",
   "execution_count": 24,
   "metadata": {},
   "outputs": [
    {
     "data": {
      "text/plain": [
       "AAPL     0\n",
       "MSFT     0\n",
       "GOOGL    0\n",
       "dtype: int64"
      ]
     },
     "execution_count": 24,
     "metadata": {},
     "output_type": "execute_result"
    }
   ],
   "source": [
    "prices_df.isna().sum()"
   ]
  },
  {
   "cell_type": "code",
   "execution_count": 25,
   "metadata": {},
   "outputs": [
    {
     "data": {
      "text/html": [
       "<div>\n",
       "<style scoped>\n",
       "    .dataframe tbody tr th:only-of-type {\n",
       "        vertical-align: middle;\n",
       "    }\n",
       "\n",
       "    .dataframe tbody tr th {\n",
       "        vertical-align: top;\n",
       "    }\n",
       "\n",
       "    .dataframe thead th {\n",
       "        text-align: right;\n",
       "    }\n",
       "</style>\n",
       "<table border=\"1\" class=\"dataframe\">\n",
       "  <thead>\n",
       "    <tr style=\"text-align: right;\">\n",
       "      <th></th>\n",
       "      <th>AAPL</th>\n",
       "      <th>MSFT</th>\n",
       "      <th>GOOGL</th>\n",
       "    </tr>\n",
       "  </thead>\n",
       "  <tbody>\n",
       "    <tr>\n",
       "      <th>count</th>\n",
       "      <td>5196.000000</td>\n",
       "      <td>5196.000000</td>\n",
       "      <td>5196.000000</td>\n",
       "    </tr>\n",
       "    <tr>\n",
       "      <th>mean</th>\n",
       "      <td>54.628110</td>\n",
       "      <td>110.797117</td>\n",
       "      <td>49.629556</td>\n",
       "    </tr>\n",
       "    <tr>\n",
       "      <th>std</th>\n",
       "      <td>65.887064</td>\n",
       "      <td>121.248378</td>\n",
       "      <td>48.195701</td>\n",
       "    </tr>\n",
       "    <tr>\n",
       "      <th>min</th>\n",
       "      <td>0.548392</td>\n",
       "      <td>15.150000</td>\n",
       "      <td>2.502675</td>\n",
       "    </tr>\n",
       "    <tr>\n",
       "      <th>25%</th>\n",
       "      <td>6.857226</td>\n",
       "      <td>27.840000</td>\n",
       "      <td>13.241768</td>\n",
       "    </tr>\n",
       "    <tr>\n",
       "      <th>50%</th>\n",
       "      <td>24.688024</td>\n",
       "      <td>44.100000</td>\n",
       "      <td>28.351000</td>\n",
       "    </tr>\n",
       "    <tr>\n",
       "      <th>75%</th>\n",
       "      <td>70.844375</td>\n",
       "      <td>161.680000</td>\n",
       "      <td>66.973500</td>\n",
       "    </tr>\n",
       "    <tr>\n",
       "      <th>max</th>\n",
       "      <td>259.020000</td>\n",
       "      <td>467.560000</td>\n",
       "      <td>206.380000</td>\n",
       "    </tr>\n",
       "  </tbody>\n",
       "</table>\n",
       "</div>"
      ],
      "text/plain": [
       "              AAPL         MSFT        GOOGL\n",
       "count  5196.000000  5196.000000  5196.000000\n",
       "mean     54.628110   110.797117    49.629556\n",
       "std      65.887064   121.248378    48.195701\n",
       "min       0.548392    15.150000     2.502675\n",
       "25%       6.857226    27.840000    13.241768\n",
       "50%      24.688024    44.100000    28.351000\n",
       "75%      70.844375   161.680000    66.973500\n",
       "max     259.020000   467.560000   206.380000"
      ]
     },
     "execution_count": 25,
     "metadata": {},
     "output_type": "execute_result"
    }
   ],
   "source": [
    "prices_df.describe()"
   ]
  },
  {
   "cell_type": "code",
   "execution_count": 26,
   "metadata": {},
   "outputs": [
    {
     "data": {
      "text/html": [
       "<div>\n",
       "<style scoped>\n",
       "    .dataframe tbody tr th:only-of-type {\n",
       "        vertical-align: middle;\n",
       "    }\n",
       "\n",
       "    .dataframe tbody tr th {\n",
       "        vertical-align: top;\n",
       "    }\n",
       "\n",
       "    .dataframe thead th {\n",
       "        text-align: right;\n",
       "    }\n",
       "</style>\n",
       "<table border=\"1\" class=\"dataframe\">\n",
       "  <thead>\n",
       "    <tr style=\"text-align: right;\">\n",
       "      <th></th>\n",
       "      <th>AAPL</th>\n",
       "      <th>MSFT</th>\n",
       "      <th>GOOGL</th>\n",
       "    </tr>\n",
       "    <tr>\n",
       "      <th>datetime</th>\n",
       "      <th></th>\n",
       "      <th></th>\n",
       "      <th></th>\n",
       "    </tr>\n",
       "  </thead>\n",
       "  <tbody>\n",
       "    <tr>\n",
       "      <th>2025-04-07 18:30:00</th>\n",
       "      <td>181.46</td>\n",
       "      <td>357.86</td>\n",
       "      <td>146.75</td>\n",
       "    </tr>\n",
       "    <tr>\n",
       "      <th>2025-04-08 18:30:00</th>\n",
       "      <td>172.42</td>\n",
       "      <td>354.56</td>\n",
       "      <td>144.70</td>\n",
       "    </tr>\n",
       "    <tr>\n",
       "      <th>2025-04-09 18:30:00</th>\n",
       "      <td>198.85</td>\n",
       "      <td>390.49</td>\n",
       "      <td>158.71</td>\n",
       "    </tr>\n",
       "    <tr>\n",
       "      <th>2025-04-10 18:30:00</th>\n",
       "      <td>190.42</td>\n",
       "      <td>381.35</td>\n",
       "      <td>152.82</td>\n",
       "    </tr>\n",
       "    <tr>\n",
       "      <th>2025-04-11 18:30:00</th>\n",
       "      <td>198.15</td>\n",
       "      <td>388.45</td>\n",
       "      <td>157.14</td>\n",
       "    </tr>\n",
       "  </tbody>\n",
       "</table>\n",
       "</div>"
      ],
      "text/plain": [
       "                       AAPL    MSFT   GOOGL\n",
       "datetime                                   \n",
       "2025-04-07 18:30:00  181.46  357.86  146.75\n",
       "2025-04-08 18:30:00  172.42  354.56  144.70\n",
       "2025-04-09 18:30:00  198.85  390.49  158.71\n",
       "2025-04-10 18:30:00  190.42  381.35  152.82\n",
       "2025-04-11 18:30:00  198.15  388.45  157.14"
      ]
     },
     "execution_count": 26,
     "metadata": {},
     "output_type": "execute_result"
    }
   ],
   "source": [
    "prices_df.tail()\n"
   ]
  },
  {
   "cell_type": "code",
   "execution_count": 28,
   "metadata": {},
   "outputs": [
    {
     "data": {
      "text/html": [
       "<div>\n",
       "<style scoped>\n",
       "    .dataframe tbody tr th:only-of-type {\n",
       "        vertical-align: middle;\n",
       "    }\n",
       "\n",
       "    .dataframe tbody tr th {\n",
       "        vertical-align: top;\n",
       "    }\n",
       "\n",
       "    .dataframe thead th {\n",
       "        text-align: right;\n",
       "    }\n",
       "</style>\n",
       "<table border=\"1\" class=\"dataframe\">\n",
       "  <thead>\n",
       "    <tr style=\"text-align: right;\">\n",
       "      <th></th>\n",
       "      <th>AAPL</th>\n",
       "      <th>MSFT</th>\n",
       "      <th>GOOGL</th>\n",
       "    </tr>\n",
       "    <tr>\n",
       "      <th>datetime</th>\n",
       "      <th></th>\n",
       "      <th></th>\n",
       "      <th></th>\n",
       "    </tr>\n",
       "  </thead>\n",
       "  <tbody>\n",
       "    <tr>\n",
       "      <th>2004-08-20 18:30:00</th>\n",
       "      <td>0.002930</td>\n",
       "      <td>0.002950</td>\n",
       "      <td>0.079484</td>\n",
       "    </tr>\n",
       "    <tr>\n",
       "      <th>2004-08-23 18:30:00</th>\n",
       "      <td>0.009091</td>\n",
       "      <td>0.001471</td>\n",
       "      <td>0.010064</td>\n",
       "    </tr>\n",
       "    <tr>\n",
       "      <th>2004-08-24 18:30:00</th>\n",
       "      <td>0.027993</td>\n",
       "      <td>0.000000</td>\n",
       "      <td>-0.041408</td>\n",
       "    </tr>\n",
       "    <tr>\n",
       "      <th>2004-08-25 18:30:00</th>\n",
       "      <td>0.034429</td>\n",
       "      <td>0.011380</td>\n",
       "      <td>0.010775</td>\n",
       "    </tr>\n",
       "    <tr>\n",
       "      <th>2004-08-26 18:30:00</th>\n",
       "      <td>0.048714</td>\n",
       "      <td>-0.003993</td>\n",
       "      <td>0.018019</td>\n",
       "    </tr>\n",
       "  </tbody>\n",
       "</table>\n",
       "</div>"
      ],
      "text/plain": [
       "                         AAPL      MSFT     GOOGL\n",
       "datetime                                         \n",
       "2004-08-20 18:30:00  0.002930  0.002950  0.079484\n",
       "2004-08-23 18:30:00  0.009091  0.001471  0.010064\n",
       "2004-08-24 18:30:00  0.027993  0.000000 -0.041408\n",
       "2004-08-25 18:30:00  0.034429  0.011380  0.010775\n",
       "2004-08-26 18:30:00  0.048714 -0.003993  0.018019"
      ]
     },
     "execution_count": 28,
     "metadata": {},
     "output_type": "execute_result"
    }
   ],
   "source": [
    "returns = prices_df.pct_change().dropna()\n",
    "returns.head()\n"
   ]
  },
  {
   "cell_type": "code",
   "execution_count": 29,
   "metadata": {},
   "outputs": [],
   "source": [
    "def optimize_portfolio(returns, risk_aversion=3.0):\n",
    "    mu = returns.mean() * 252  # годовая доходность\n",
    "    cov = returns.cov() * 252  # годовая ковариация\n",
    "    n = len(mu)\n",
    "\n",
    "    def utility(w):\n",
    "        return -(mu @ w - (risk_aversion / 2) * w.T @ cov @ w)\n",
    "\n",
    "    bounds = [(0.0, 1.0) for _ in range(n)]\n",
    "    constraints = [{'type': 'eq', 'fun': lambda w: np.sum(w) - 1}]\n",
    "    x0 = np.ones(n) / n\n",
    "\n",
    "    result = minimize(utility, x0, method='SLSQP', bounds=bounds, constraints=constraints)\n",
    "\n",
    "    if not result.success:\n",
    "        raise RuntimeError(result.message)\n",
    "\n",
    "    return {\n",
    "        'weights': result.x,\n",
    "        'expected_return': mu @ result.x,\n",
    "        'volatility': np.sqrt(result.x.T @ cov @ result.x)\n",
    "    }\n"
   ]
  },
  {
   "cell_type": "code",
   "execution_count": 30,
   "metadata": {},
   "outputs": [
    {
     "name": "stdout",
     "output_type": "stream",
     "text": [
      "AAPL: 75.00%\n",
      "MSFT: 0.00%\n",
      "GOOGL: 25.00%\n",
      "\n",
      "Ожидаемая доходность: 31.62%\n",
      "Ожидаемая волатильность: 29.21%\n"
     ]
    }
   ],
   "source": [
    "opt_result = optimize_portfolio(returns)\n",
    "\n",
    "for ticker, weight in zip(tickers, opt_result['weights']):\n",
    "    print(f\"{ticker}: {weight:.2%}\")\n",
    "\n",
    "print(f\"\\nОжидаемая доходность: {opt_result['expected_return']:.2%}\")\n",
    "print(f\"Ожидаемая волатильность: {opt_result['volatility']:.2%}\")\n"
   ]
  },
  {
   "cell_type": "code",
   "execution_count": 38,
   "metadata": {},
   "outputs": [],
   "source": [
    "import numpy as np\n",
    "\n",
    "start_weight = np.array([0.33, 0.33, 0.33])\n",
    "optimized_weight = np.array(opt_result['weights'])  # оптимизация\n"
   ]
  },
  {
   "cell_type": "code",
   "execution_count": null,
   "metadata": {},
   "outputs": [],
   "source": [
    "# Расчёт кумулятивного роста\n",
    "def compute_cumulative_growth(returns, weights):\n",
    "    port_returns = returns.dot(weights)\n",
    "    cumulative = (1 + port_returns).cumprod()\n",
    "    return cumulative * 100  # нормализация\n",
    "\n",
    "original_cum = compute_cumulative_growth(returns, start_weight)\n",
    "optimized_cum = compute_cumulative_growth(returns, optimized_weight)\n"
   ]
  },
  {
   "cell_type": "code",
   "execution_count": null,
   "metadata": {},
   "outputs": [
    {
     "data": {
      "text/plain": [
       "datetime\n",
       "2004-08-20 18:30:00     102.817019\n",
       "2004-08-23 18:30:00     103.516832\n",
       "2004-08-24 18:30:00     103.058572\n",
       "2004-08-25 18:30:00     104.982960\n",
       "2004-08-26 18:30:00     107.156566\n",
       "                          ...     \n",
       "2025-04-07 18:30:00    8185.771491\n",
       "2025-04-08 18:30:00    7988.552050\n",
       "2025-04-09 18:30:00    8915.042735\n",
       "2025-04-10 18:30:00    8612.279424\n",
       "2025-04-11 18:30:00    8860.905260\n",
       "Length: 5195, dtype: float64"
      ]
     },
     "execution_count": 44,
     "metadata": {},
     "output_type": "execute_result"
    }
   ],
   "source": [
    "original_cum.iloc[:]"
   ]
  },
  {
   "cell_type": "code",
   "execution_count": 60,
   "metadata": {},
   "outputs": [
    {
     "data": {
      "image/png": "[encoded data removed]",
      "text/plain": [
       "<Figure size 1200x600 with 1 Axes>"
      ]
     },
     "metadata": {},
     "output_type": "display_data"
    }
   ],
   "source": [
    "# График\n",
    "\n",
    "start, end = -200, -1\n",
    "start_date, end_date = '2020-04-13', '2025-04-11'\n",
    "\n",
    "plt.figure(figsize=(12, 6))\n",
    "plt.plot(original_cum.loc[start_date:end_date], label='Оригинальный портфель', linewidth=2)\n",
    "plt.plot(optimized_cum.loc[start_date:end_date], label='Оптимизированный портфель', linewidth=2)\n",
    "plt.title('Рост стоимости портфеля (нормировано к 100)', fontsize=14)\n",
    "plt.ylabel('Стоимость', fontsize=12)\n",
    "plt.xlabel('Дата', fontsize=12)\n",
    "plt.grid(True, alpha=0.3)\n",
    "plt.legend()\n",
    "plt.tight_layout()\n",
    "plt.show()"
   ]
  }
 ],
 "metadata": {
  "kernelspec": {
   "display_name": "venv",
   "language": "python",
   "name": "python3"
  },
  "language_info": {
   "codemirror_mode": {
    "name": "ipython",
    "version": 3
   },
   "file_extension": ".py",
   "mimetype": "text/x-python",
   "name": "python",
   "nbconvert_exporter": "python",
   "pygments_lexer": "ipython3",
   "version": "3.10.9"
  }
 },
 "nbformat": 4,
 "nbformat_minor": 2
}
